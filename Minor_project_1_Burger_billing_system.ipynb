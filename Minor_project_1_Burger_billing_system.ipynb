{
  "nbformat": 4,
  "nbformat_minor": 0,
  "metadata": {
    "colab": {
      "provenance": [],
      "authorship_tag": "ABX9TyO6YXKOMq8gJ5LiFtJ4XRC/",
      "include_colab_link": true
    },
    "kernelspec": {
      "name": "python3",
      "display_name": "Python 3"
    },
    "language_info": {
      "name": "python"
    }
  },
  "cells": [
    {
      "cell_type": "markdown",
      "metadata": {
        "id": "view-in-github",
        "colab_type": "text"
      },
      "source": [
        "<a href=\"https://colab.research.google.com/github/mlsaran/Restaurant_billing/blob/main/Minor_project_1_Burger_billing_system.ipynb\" target=\"_parent\"><img src=\"https://colab.research.google.com/assets/colab-badge.svg\" alt=\"Open In Colab\"/></a>"
      ]
    },
    {
      "cell_type": "code",
      "source": [
        "print('*******MENU********')\n",
        "print(\"Item          price\")\n",
        "print('aloo tikki     5$')\n",
        "print('maharaja       10$')\n",
        "print('mac special    15$')\n",
        "item1='aloo tikki'\n",
        "item2='maharaja'\n",
        "item3='mac special'\n",
        "price_1=5\n",
        "price_2=10\n",
        "price_3=15\n",
        "n=int(input('How many dish do you wish to order:'))\n",
        "count1 = 0\n",
        "count2 = 0\n",
        "count3 = 0\n",
        "total_1 = 0\n",
        "total_2 = 0\n",
        "total_3 = 0\n",
        "orders = []\n",
        "counts = []\n",
        "prices = []\n",
        "total_prices = []\n",
        "for i in range(n):\n",
        "  order=input('Enter the name of your dish as per menu:')\n",
        "  c=int(input('How many quantity of the above dish?:'))\n",
        "  if order==item1:\n",
        "      count1=count1+c\n",
        "      total_1=price_1*count1\n",
        "      orders.append(order)\n",
        "      counts.append(count1)\n",
        "      prices.append(price_1)\n",
        "      total_prices.append(total_1)\n",
        "\n",
        "  elif order==item2:\n",
        "      count2=count2+c\n",
        "      total_2=price_2*count2\n",
        "      orders.append(order)\n",
        "      counts.append(count2)\n",
        "      prices.append(price_2)\n",
        "      total_prices.append(total_2)\n",
        "  elif order==item3:\n",
        "      count3=count3+c\n",
        "      total_3=price_3*count3\n",
        "      orders.append(order)\n",
        "      counts.append(count3)\n",
        "      prices.append(price_3)\n",
        "      total_prices.append(total_3)\n",
        "  else:\n",
        "    print('Wrong input')\n",
        "total=total_1+total_2+total_3\n",
        "student=input('Are you a student?(Answer Yes or No):')\n",
        "if student=='Yes':\n",
        "  stu=int(((20/100)*total))\n",
        "  total=total-stu\n",
        "else:\n",
        "  stu=0\n",
        "  total=total\n",
        "deliver=input('Do you need delivery?(Answer Yes or No):')\n",
        "if deliver=='Yes':\n",
        "  deli=int(((5/100)*total))\n",
        "  total=total+deli\n",
        "else:\n",
        "  deli=0\n",
        "  total=total\n",
        "tip=input('Do you want to give tip?(Answer Yes or No)')\n",
        "if tip=='Yes':\n",
        "  ask=int(input('How much tip do you want to give?(2$ or 5$ or 10$)'))\n",
        "  if ask==2:\n",
        "    total=total+2\n",
        "  elif ask==5:\n",
        "    total=total+5\n",
        "  elif ask==10:\n",
        "    total=total+10\n",
        "  else:\n",
        "    print('Enter valid tip')\n",
        "else:\n",
        "  ask=0\n",
        "  total=total\n",
        "print('******************final bill***********************')\n",
        "print('name            price       quantity   total_price')\n",
        "# Iterate over the lists and print each item's details\n",
        "for i in range(len(orders)):\n",
        "    print(f'{orders[i]}         {prices[i]}             {counts[i]}            ${total_prices[i]}')\n",
        "print('***************************************************')\n",
        "print(f'Student discount 20%                       - {stu}$')\n",
        "print(f'Delivery charge 5%                         + {deli}$')\n",
        "print(f'Tip 5%                                     + {ask}$')\n",
        "print('***************************************************')\n",
        "print(f'Total:                                     ${total}')\n",
        "print('thank you and come again >>>>>>>>>>>>>>>>>>>>>>>>>>')"
      ],
      "metadata": {
        "colab": {
          "base_uri": "https://localhost:8080/"
        },
        "id": "2xeHSp48rE0P",
        "outputId": "b5058e20-a77a-4ddc-a9a5-fc696a414228"
      },
      "execution_count": 49,
      "outputs": [
        {
          "output_type": "stream",
          "name": "stdout",
          "text": [
            "*******MENU********\n",
            "Item          price\n",
            "aloo tikki     5$\n",
            "maharaja       10$\n",
            "mac special    15$\n",
            "How many dish do you wish to order:3\n",
            "Enter the name of your dish as per menu:aloo tikki\n",
            "How many quantity of the above dish?:4\n",
            "Enter the name of your dish as per menu:mac special\n",
            "How many quantity of the above dish?:5\n",
            "Enter the name of your dish as per menu:maharaja\n",
            "How many quantity of the above dish?:6\n",
            "Are you a student?(Answer Yes or No):Yes\n",
            "Do you need delivery?(Answer Yes or No):Yes\n",
            "Do you want to give tip?(Answer Yes or No)Yes\n",
            "How much tip do you want to give?(2$ or 5$ or 10$)5\n",
            "******************final bill***********************\n",
            "name            price       quantity   total_price\n",
            "aloo tikki         5             4            $20\n",
            "mac special         15             5            $75\n",
            "maharaja         10             6            $60\n",
            "***************************************************\n",
            "Student discount 20%                       - 31$\n",
            "Delivery charge 5%                         + 6$\n",
            "Tip 5%                                     + 5$\n",
            "***************************************************\n",
            "Total:                                     $135\n",
            "thank you and come again >>>>>>>>>>>>>>>>>>>>>>>>>>\n"
          ]
        }
      ]
    }
  ]
}